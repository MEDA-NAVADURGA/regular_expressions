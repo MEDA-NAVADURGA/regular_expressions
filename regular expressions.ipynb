{
 "cells": [
  {
   "cell_type": "markdown",
   "id": "bd79e31c",
   "metadata": {},
   "source": [
    "                                 ====================================\n",
    "                                       REGULAR EXPRESSIONS\n",
    "                                 ====================================\n",
    " purpose:=\n",
    " -----------------\n",
    " \n",
    "     To build an robost applications and data validation(for search patterns).\n",
    "     \n",
    "  real time usage:\n",
    "  -----------------------\n",
    "  \n",
    "  => compilers and interpreters.\n",
    "  => all electronic devices.\n",
    "  => universal prototypes.\n",
    "  => operating systems.\n",
    "  \n",
    " DEFINITION:=\n",
    " ============\n",
    " \n",
    "  A regular expression is combination of alphabets and digits and special symbols used for search patterns.\n",
    "  \n",
    "  Pre-built Functions:=\n",
    "  ==================\n",
    "  \n",
    "  1)In Python we have 6 types of function works on regular expressions....if you want to use that pre-built functions firstly       you can import \"re\" module.\n",
    "  2)\"re\" stands for regular expression.as \"\"\"import re\"\"\"\n",
    "  3)They are:\n",
    "        *search()\n",
    "        *findall()\n",
    "        *finditer()\n",
    "        *start()\n",
    "        *end()\n",
    "        *group()"
   ]
  },
  {
   "cell_type": "markdown",
   "id": "3148e626",
   "metadata": {},
   "source": [
    "SEARCH():=\n",
    "===========\n",
    "               1)This is used for searching a search pattern in given pattern and it returns first search pattern with start                    and end index.\n",
    "                ------------------------------------------------------------------\n",
    "                   syntax:  varname=re.search(\"search pattern\",\"given pattern\")\n",
    "                ------------------------------------------------------------------"
   ]
  },
  {
   "cell_type": "code",
   "execution_count": 6,
   "id": "7f8b8968",
   "metadata": {},
   "outputs": [
    {
     "name": "stdout",
     "output_type": "stream",
     "text": [
      "<re.Match object; span=(19, 25), match='eering'>\n",
      "search pattern= eering\n"
     ]
    }
   ],
   "source": [
    "# examples for search function\n",
    "import re\n",
    "gp=\"narasaraopeta engineering college and narasaraopeta institute of technology engineering college\"\n",
    "sp=\"eering\"\n",
    "result=re.search(sp,gp)\n",
    "print(result)\n",
    "print(\"search pattern=\",result.group())"
   ]
  },
  {
   "cell_type": "code",
   "execution_count": 13,
   "id": "f90d1b25",
   "metadata": {},
   "outputs": [
    {
     "name": "stdout",
     "output_type": "stream",
     "text": [
      "<re.Match object; span=(19, 25), match='eering'>\n",
      "start index of match pattern= 19\n",
      "end index of match pattern= 25\n"
     ]
    }
   ],
   "source": [
    "import re\n",
    "gp=\"narasaraopeta engineering college\"\n",
    "sp=\"eering\"\n",
    "result=re.search(sp,gp) \n",
    "print(result)\n",
    "print(\"start index of match pattern=\",result.start())\n",
    "print(\"end index of match pattern=\",result.end())"
   ]
  },
  {
   "cell_type": "code",
   "execution_count": 3,
   "id": "08af18c6",
   "metadata": {},
   "outputs": [
    {
     "name": "stdout",
     "output_type": "stream",
     "text": [
      "<re.Match object; span=(3, 7), match='hell'>\n",
      "<class 're.Match'>\n"
     ]
    }
   ],
   "source": [
    "import re\n",
    "input_pattern=\"hi hello how are you\"\n",
    "result=re.search(\"hell\",input_pattern)\n",
    "print(result)\n",
    "print(type(result))"
   ]
  },
  {
   "cell_type": "markdown",
   "id": "35c66f39",
   "metadata": {},
   "source": [
    "2)FINDALL() FUNCTION:-\n",
    "=========================\n",
    "         This function returns total no.of match patterns in the form of list.\n",
    "         ===========================================================================\n",
    "          SYNTAX:-   var_name=re.findall(\"search pattern\",\"given input pattern\")\n",
    "         ============================================================================"
   ]
  },
  {
   "cell_type": "code",
   "execution_count": 7,
   "id": "db665bcd",
   "metadata": {},
   "outputs": [
    {
     "name": "stdout",
     "output_type": "stream",
     "text": [
      "['hell', 'hell']\n",
      "<class 'list'>\n"
     ]
    }
   ],
   "source": [
    "#examples of findall() function\n",
    "import re\n",
    "input_pattern=\"hi hello how are you. hellow who are you?\"\n",
    "result=re.findall(\"hell\",input_pattern)\n",
    "print(result)\n",
    "print(type(result))"
   ]
  },
  {
   "cell_type": "code",
   "execution_count": 15,
   "id": "09dfcda3",
   "metadata": {},
   "outputs": [
    {
     "name": "stdout",
     "output_type": "stream",
     "text": [
      "['hi', 'hi', 'hi', 'hi']\n",
      "total no.of 'hi' present in given string=4\n"
     ]
    }
   ],
   "source": [
    "#find the total no.of \"hi\" search petterns present in \"hi hello hi hello hi hellow hi hellow\" string\n",
    "import re\n",
    "result=re.findall(\"hi\",\"hi hello hi hello hi hellow hi hellow\")\n",
    "print(result)\n",
    "print(\"total no.of 'hi' present in given string={}\".format(len(result)))"
   ]
  },
  {
   "cell_type": "markdown",
   "id": "fd830190",
   "metadata": {},
   "source": [
    "\n",
    "3)finditer() function:-\n",
    "===================\n",
    "      This fuction search the pattern iteratively and returns iterator with start and end indexs of all match cases.\n",
    "         ===========================================================================\n",
    "          SYNTAX:-   var_name=re.findall(\"search pattern\",\"given input pattern\")\n",
    "         ============================================================================"
   ]
  },
  {
   "cell_type": "code",
   "execution_count": 27,
   "id": "f40eb224",
   "metadata": {},
   "outputs": [
    {
     "name": "stdout",
     "output_type": "stream",
     "text": [
      "['o', 'o', 'o']\n",
      "type of object= <class 'list'>\n"
     ]
    }
   ],
   "source": [
    "import re\n",
    "result=re.findall(\"o\",\"python is one of simple language\")\n",
    "print(result)\n",
    "print(\"type of object=\",type(result))"
   ]
  },
  {
   "cell_type": "code",
   "execution_count": 4,
   "id": "2a5a73f7",
   "metadata": {},
   "outputs": [
    {
     "name": "stdout",
     "output_type": "stream",
     "text": [
      "[]\n",
      "type of object= <class 'list'>\n"
     ]
    }
   ],
   "source": [
    "import re\n",
    "result=re.findall(\"ao\",\"data science is my dream\")\n",
    "print(result)\n",
    "print(\"type of object=\",type(result))"
   ]
  },
  {
   "cell_type": "markdown",
   "id": "2ca49f0f",
   "metadata": {},
   "source": [
    "start() function:=\n",
    "===============\n",
    "         returns starting index of a match pattern and this function works with only search and finditer function.\n",
    "         =============================================================================================================\n",
    "                                         SYNTAX:-  var_name.start()\n",
    "         ============================================================================================================="
   ]
  },
  {
   "cell_type": "code",
   "execution_count": 8,
   "id": "d9629167",
   "metadata": {},
   "outputs": [
    {
     "name": "stdout",
     "output_type": "stream",
     "text": [
      "starting index of search pattern= 20\n"
     ]
    }
   ],
   "source": [
    "import re\n",
    "result=re.search(\"hello\",\"hi python...java....hellow r programming\")\n",
    "print(\"starting index of search pattern=\",result.start())"
   ]
  },
  {
   "cell_type": "code",
   "execution_count": 35,
   "id": "a51b986d",
   "metadata": {},
   "outputs": [
    {
     "name": "stdout",
     "output_type": "stream",
     "text": [
      "<re.Match object; span=(19, 25), match='eering'>\n",
      "start index of match pattern= 19\n"
     ]
    }
   ],
   "source": [
    "import re\n",
    "gp=\"narasaraopeta engineering college\"\n",
    "sp=\"eering\"\n",
    "result=re.finditer(sp,gp) \n",
    "for x in result:\n",
    "    print(x)\n",
    "    print(\"start index of match pattern=\",x.start())"
   ]
  },
  {
   "cell_type": "markdown",
   "id": "c73e8dc4",
   "metadata": {},
   "source": [
    "END() FUNCTION:--\n",
    "==================\n",
    "     returns END index of a match pattern and this function works with onlt search and finditer function.\n",
    "     =============================================================================================================\n",
    "                                     SYNTAX:-  var_name.end()\n",
    "     ============================================================================================================="
   ]
  },
  {
   "cell_type": "code",
   "execution_count": 12,
   "id": "2345c297",
   "metadata": {},
   "outputs": [
    {
     "name": "stdout",
     "output_type": "stream",
     "text": [
      "<re.Match object; span=(46, 48), match='ll'>\n",
      "start index of match pattern= 48\n"
     ]
    }
   ],
   "source": [
    "import re\n",
    "gp=\"A website (also written as a web site) is a collection of web pages\"\n",
    "sp=\"ll\"\n",
    "result=re.search(sp,gp) \n",
    "print(result)\n",
    "print(\"start index of match pattern=\",result.end())"
   ]
  },
  {
   "cell_type": "code",
   "execution_count": 19,
   "id": "f85feebd",
   "metadata": {},
   "outputs": [
    {
     "name": "stdout",
     "output_type": "stream",
     "text": [
      "<re.Match object; span=(13, 16), match='ust'>\n",
      "end index of match pattern= 16\n"
     ]
    }
   ],
   "source": [
    "import re\n",
    "gp=\"python is robust\"\n",
    "sp=\"ust\"\n",
    "result=re.search(sp,gp) \n",
    "print(result)\n",
    "print(\"end index of match pattern=\",result.end())"
   ]
  },
  {
   "cell_type": "markdown",
   "id": "88c0c9ab",
   "metadata": {},
   "source": [
    "group() function:-\n",
    "================\n",
    "       this function return a matched pattern in given input pattern.this function works with only search function.\n",
    "        =============================================================================================================\n",
    "                                 SYNTAX:-  var_name.group()\n",
    "        =============================================================================================================\n",
    "       "
   ]
  },
  {
   "cell_type": "code",
   "execution_count": 22,
   "id": "5a65c0a4",
   "metadata": {},
   "outputs": [
    {
     "name": "stdout",
     "output_type": "stream",
     "text": [
      "<re.Match object; span=(39, 41), match='is'>\n",
      "match pattern found in given input string= is\n"
     ]
    }
   ],
   "source": [
    "import re\n",
    "gp=\"A website (also written as a web site) is a collection of web pages\"\n",
    "sp=\"is\"\n",
    "result=re.search(sp,gp) \n",
    "print(result)\n",
    "print(\"match pattern found in given input string=\",result.group())"
   ]
  },
  {
   "cell_type": "code",
   "execution_count": 36,
   "id": "d0630a1a",
   "metadata": {},
   "outputs": [
    {
     "name": "stdout",
     "output_type": "stream",
     "text": [
      "<re.Match object; span=(39, 41), match='is'>\n",
      "match pattern found in given input string= is\n"
     ]
    }
   ],
   "source": [
    "import re\n",
    "gp=\"A website (also written as a web site) is a collection of web pages\"\n",
    "sp=\"is\"\n",
    "result=re.finditer(sp,gp)\n",
    "for x in result:\n",
    "    print(x)\n",
    "    print(\"match pattern found in given input string=\",x.group())"
   ]
  },
  {
   "cell_type": "markdown",
   "id": "4175180f",
   "metadata": {},
   "source": [
    "PROGRAMER-DEFINED CHARACTER CLASS :-\n",
    "=======================================\n",
    "          Used for preparing programmer defined character search pettrns for searching in given input pattern."
   ]
  },
  {
   "cell_type": "markdown",
   "id": "fa8f13b0",
   "metadata": {},
   "source": [
    "1.[  ]: \n",
    "-------\n",
    "            This is used to search all the character specified in square braces in given input pattern..\n",
    "            =====================================================\n",
    "               SYNTAX:-[characters]\n",
    "            =====================================================\n",
    "      ex:=\n",
    "      -----"
   ]
  },
  {
   "cell_type": "code",
   "execution_count": 5,
   "id": "b7d3818a",
   "metadata": {},
   "outputs": [
    {
     "name": "stdout",
     "output_type": "stream",
     "text": [
      "<callable_iterator object at 0x00000227F3D8C220>\n",
      "<re.Match object; span=(0, 1), match='a'>\n",
      "<re.Match object; span=(1, 2), match='b'>\n",
      "<re.Match object; span=(2, 3), match='c'>\n",
      "<re.Match object; span=(6, 7), match='b'>\n",
      "<re.Match object; span=(19, 20), match='b'>\n",
      "<re.Match object; span=(34, 35), match='b'>\n",
      "<re.Match object; span=(44, 45), match='a'>\n"
     ]
    }
   ],
   "source": [
    "import re\n",
    "result=re.finditer(\"[abc]\",\"abckjkbd8y98y0434mtb4iut948t894y0rbndsmnsvhjaiy\")\n",
    "print(result)\n",
    "for x in result:\n",
    "    print(x)"
   ]
  },
  {
   "cell_type": "code",
   "execution_count": 12,
   "id": "a1fc4a28",
   "metadata": {},
   "outputs": [
    {
     "name": "stdout",
     "output_type": "stream",
     "text": [
      "<callable_iterator object at 0x00000227F3D8EA70>\n",
      "<re.Match object; span=(0, 1), match='a'>\n",
      "<re.Match object; span=(5, 6), match='j'>\n",
      "<re.Match object; span=(6, 7), match='a'>\n",
      "<re.Match object; span=(8, 9), match='y'>\n"
     ]
    }
   ],
   "source": [
    "import re\n",
    "result=re.finditer(\"[ajfuyf]\",\"absvhjaiy\")\n",
    "print(result)\n",
    "for x in result:\n",
    "    print(x)"
   ]
  },
  {
   "cell_type": "markdown",
   "id": "03c6a87f",
   "metadata": {},
   "source": [
    "2)[ ^   ]:\n",
    "============\n",
    "            This is used to search except all the character specified in square braces in given input pattern.\n",
    "            =====================================================\n",
    "               SYNTAX:-[ ^ characters]\n",
    "            =====================================================\n",
    "      ex:=\n",
    "      -----"
   ]
  },
  {
   "cell_type": "code",
   "execution_count": 16,
   "id": "29485a00",
   "metadata": {},
   "outputs": [
    {
     "name": "stdout",
     "output_type": "stream",
     "text": [
      "<callable_iterator object at 0x00000227F3D8C670>\n",
      "<re.Match object; span=(7, 8), match='d'>\n",
      "<re.Match object; span=(13, 14), match='h'>\n",
      "<re.Match object; span=(16, 17), match='i'>\n",
      "<re.Match object; span=(17, 18), match='y'>\n"
     ]
    }
   ],
   "source": [
    "#it searches expect \"a132jklbc\" characters in \"abckjkbd21233hjaiy\"\n",
    "import re\n",
    "result=re.finditer(\"[^a132jklbc]\",\"abckjkbd21233hjaiy\")\n",
    "print(result)\n",
    "for x in result:\n",
    "    print(x)"
   ]
  },
  {
   "cell_type": "markdown",
   "id": "c9114462",
   "metadata": {},
   "source": [
    "3)[  -  ]:-\n",
    "==========\n",
    "        This is used to search  all the character specified in given range at square braces in given input pattern.\n",
    "        =====================================================\n",
    "           SYNTAX:-[character - character ]\n",
    "        =====================================================\n",
    "     ex:=\n",
    "     -----\n",
    "      "
   ]
  },
  {
   "cell_type": "code",
   "execution_count": 18,
   "id": "13939def",
   "metadata": {},
   "outputs": [
    {
     "name": "stdout",
     "output_type": "stream",
     "text": [
      "<callable_iterator object at 0x00000227F3D8E080>\n",
      "<re.Match object; span=(0, 1), match='a'>\n",
      "<re.Match object; span=(1, 2), match='b'>\n",
      "<re.Match object; span=(2, 3), match='d'>\n",
      "<re.Match object; span=(8, 9), match='h'>\n",
      "<re.Match object; span=(9, 10), match='i'>\n",
      "<re.Match object; span=(10, 11), match='y'>\n"
     ]
    }
   ],
   "source": [
    "#it searches all the characters between \"a to z\" in \"abckjkbd21233hjaiy\"\n",
    "import re\n",
    "result=re.finditer(\"[a-z]\",\"abd21233hiy\")\n",
    "print(result)\n",
    "for x in result:\n",
    "    print(x)"
   ]
  },
  {
   "cell_type": "markdown",
   "id": "6d0dbfc5",
   "metadata": {},
   "source": [
    "4)[ ^ - ]:-\n",
    "================\n",
    "       This is used to search except all the character specified in given range at square braces in given input pattern.\n",
    "    =====================================================\n",
    "       SYNTAX:-[ ^ character - character ]\n",
    "    =====================================================\n",
    "     ex:=\n",
    "     -----"
   ]
  },
  {
   "cell_type": "code",
   "execution_count": 21,
   "id": "306f58e4",
   "metadata": {},
   "outputs": [
    {
     "name": "stdout",
     "output_type": "stream",
     "text": [
      "<callable_iterator object at 0x00000227F3D8E920>\n",
      "<re.Match object; span=(3, 4), match='2'>\n",
      "<re.Match object; span=(4, 5), match='1'>\n",
      "<re.Match object; span=(5, 6), match='2'>\n",
      "<re.Match object; span=(6, 7), match='3'>\n",
      "<re.Match object; span=(7, 8), match='3'>\n"
     ]
    }
   ],
   "source": [
    "#it searches except all the characters between \"a to z\" in \"abckjkbd21233hjaiy\"\n",
    "import re\n",
    "result=re.finditer(\"[^a-z]\",\"abd21233hiy\")\n",
    "print(result)\n",
    "for x in result:\n",
    "    print(x)"
   ]
  },
  {
   "cell_type": "markdown",
   "id": "e4da99b2",
   "metadata": {},
   "source": [
    "5)\\s:-\n",
    "========\n",
    "            This is used to search  all the spaces in given input pattern.\n",
    "    =====================================================\n",
    "       SYNTAX:-[\\s expression]\n",
    "    =====================================================\n",
    "    ex:=\n",
    "    -----"
   ]
  },
  {
   "cell_type": "code",
   "execution_count": 23,
   "id": "b6b55678",
   "metadata": {},
   "outputs": [
    {
     "name": "stdout",
     "output_type": "stream",
     "text": [
      "<callable_iterator object at 0x00000227F3D8E680>\n",
      "<re.Match object; span=(2, 3), match=' '>\n",
      "<re.Match object; span=(6, 7), match=' '>\n",
      "<re.Match object; span=(11, 12), match=' '>\n"
     ]
    }
   ],
   "source": [
    "#it searches for all the spaces in \"ab d21 233h iy\"\n",
    "import re\n",
    "result=re.finditer(\"[\\s]\",\"ab d21 233h iy\")\n",
    "print(result)\n",
    "for x in result:\n",
    "    print(x)"
   ]
  },
  {
   "cell_type": "markdown",
   "id": "59328473",
   "metadata": {},
   "source": [
    "6)\\S:-\n",
    "========\n",
    "                This is used to search except all the spaces in given input pattern.\n",
    "                 =====================================================\n",
    "                   SYNTAX:-[\\S expression]\n",
    "                 =====================================================\n",
    "          ex:=\n",
    "         -----"
   ]
  },
  {
   "cell_type": "code",
   "execution_count": 24,
   "id": "14a1b845",
   "metadata": {},
   "outputs": [
    {
     "name": "stdout",
     "output_type": "stream",
     "text": [
      "<callable_iterator object at 0x00000227F3D8C3D0>\n",
      "<re.Match object; span=(0, 1), match='e'>\n",
      "<re.Match object; span=(1, 2), match='a'>\n",
      "<re.Match object; span=(2, 3), match='r'>\n",
      "<re.Match object; span=(4, 5), match='j'>\n",
      "<re.Match object; span=(6, 7), match='y'>\n",
      "<re.Match object; span=(7, 8), match='y'>\n",
      "<re.Match object; span=(8, 9), match='f'>\n",
      "<re.Match object; span=(10, 11), match='g'>\n",
      "<re.Match object; span=(11, 12), match='8'>\n"
     ]
    }
   ],
   "source": [
    "#search except all the spaces in given input pattern \"ear j yyf g8\"\n",
    "import re\n",
    "result=re.finditer(\"[\\S]\",\"ear j yyf g8\")\n",
    "print(result)\n",
    "for x in result:\n",
    "    print(x)"
   ]
  },
  {
   "cell_type": "markdown",
   "id": "f3e0188a",
   "metadata": {},
   "source": [
    "7)\\w:-\n",
    "==========\n",
    "                This is used to search all the alphanumerics in given input pattern.\n",
    "                 =====================================================\n",
    "                   SYNTAX:-[\\w expression]\n",
    "                 =====================================================\n",
    "          ex:=\n",
    "         -----"
   ]
  },
  {
   "cell_type": "code",
   "execution_count": 26,
   "id": "2f9c4bfe",
   "metadata": {},
   "outputs": [
    {
     "name": "stdout",
     "output_type": "stream",
     "text": [
      "<callable_iterator object at 0x00000227F3D8E830>\n",
      "<re.Match object; span=(0, 1), match='e'>\n",
      "<re.Match object; span=(1, 2), match='a'>\n",
      "<re.Match object; span=(2, 3), match='r'>\n",
      "<re.Match object; span=(4, 5), match='j'>\n",
      "<re.Match object; span=(6, 7), match='y'>\n",
      "<re.Match object; span=(7, 8), match='y'>\n",
      "<re.Match object; span=(8, 9), match='f'>\n",
      "<re.Match object; span=(10, 11), match='g'>\n",
      "<re.Match object; span=(11, 12), match='8'>\n"
     ]
    }
   ],
   "source": [
    "#search all the alphanumerics in given input pattern \"ear j yyf g8\"\n",
    "import re\n",
    "result=re.finditer(\"[\\S]\",\"ear j yyf g8\")\n",
    "print(result)\n",
    "for x in result:\n",
    "    print(x)"
   ]
  },
  {
   "cell_type": "markdown",
   "id": "872974cd",
   "metadata": {},
   "source": [
    "8)\\W:-\n",
    "==============\n",
    "            This is used to search except all the alphanumerics in given input pattern.\n",
    "             =====================================================\n",
    "               SYNTAX:-[\\W expression]\n",
    "             =====================================================\n",
    "      ex:=\n",
    "     -----"
   ]
  },
  {
   "cell_type": "code",
   "execution_count": 27,
   "id": "4d0d409f",
   "metadata": {},
   "outputs": [
    {
     "name": "stdout",
     "output_type": "stream",
     "text": [
      "<callable_iterator object at 0x00000227F3D8EAD0>\n",
      "<re.Match object; span=(2, 3), match=' '>\n",
      "<re.Match object; span=(3, 4), match='&'>\n",
      "<re.Match object; span=(6, 7), match='('>\n",
      "<re.Match object; span=(7, 8), match='#'>\n"
     ]
    }
   ],
   "source": [
    "#search except all the alphanumerics in given input pattern \"ab &bd(#68434hjaiy\"\n",
    "import re\n",
    "result=re.finditer(\"[\\W]\",\"ab &bd(#68434hjaiy\")\n",
    "print(result)\n",
    "for x in result:\n",
    "    print(x)"
   ]
  },
  {
   "cell_type": "markdown",
   "id": "5e1c6e70",
   "metadata": {},
   "source": [
    "9)\\d:-\n",
    "========\n",
    "        This is used to search all the digits in given input pattern.\n",
    "         =====================================================\n",
    "           SYNTAX:-[\\d expression]\n",
    "         =====================================================\n",
    "     ex:=\n",
    "     -----"
   ]
  },
  {
   "cell_type": "code",
   "execution_count": 30,
   "id": "79209f44",
   "metadata": {},
   "outputs": [
    {
     "name": "stdout",
     "output_type": "stream",
     "text": [
      "<callable_iterator object at 0x00000227F3D8E770>\n",
      "<re.Match object; span=(8, 9), match='6'>\n",
      "<re.Match object; span=(9, 10), match='8'>\n",
      "<re.Match object; span=(10, 11), match='4'>\n",
      "<re.Match object; span=(11, 12), match='3'>\n",
      "<re.Match object; span=(12, 13), match='4'>\n"
     ]
    }
   ],
   "source": [
    "#search all the digits in given input pattern \"ab &bd(#68434hjaiy\"\n",
    "import re\n",
    "result=re.finditer(\"[\\d]\",\"ab &bd(#68434hjaiy\")\n",
    "print(result)\n",
    "for x in result:\n",
    "    print(x)"
   ]
  },
  {
   "cell_type": "markdown",
   "id": "c7e0266d",
   "metadata": {},
   "source": [
    "9)\\D:-\n",
    "========\n",
    "        This is used to search except all the digits in given input pattern.\n",
    "         =====================================================\n",
    "           SYNTAX:-[\\D expression]\n",
    "         =====================================================\n",
    "     ex:=\n",
    "     -----"
   ]
  },
  {
   "cell_type": "code",
   "execution_count": 33,
   "id": "949c6ca1",
   "metadata": {},
   "outputs": [
    {
     "name": "stdout",
     "output_type": "stream",
     "text": [
      "<callable_iterator object at 0x00000227F3BF9960>\n",
      "<re.Match object; span=(0, 1), match='a'>\n",
      "<re.Match object; span=(1, 2), match='b'>\n",
      "<re.Match object; span=(2, 3), match=' '>\n",
      "<re.Match object; span=(3, 4), match='&'>\n",
      "<re.Match object; span=(4, 5), match='b'>\n",
      "<re.Match object; span=(5, 6), match='d'>\n",
      "<re.Match object; span=(6, 7), match='('>\n",
      "<re.Match object; span=(7, 8), match='#'>\n",
      "<re.Match object; span=(13, 14), match='h'>\n",
      "<re.Match object; span=(14, 15), match='j'>\n",
      "<re.Match object; span=(15, 16), match='a'>\n",
      "<re.Match object; span=(16, 17), match=' '>\n",
      "<re.Match object; span=(18, 19), match='d'>\n",
      "<re.Match object; span=(19, 20), match='i'>\n",
      "<re.Match object; span=(20, 21), match='y'>\n",
      "20\n"
     ]
    }
   ],
   "source": [
    "#search except all the digits in given input pattern \"ab &bd(#68434hja 4diy\"\n",
    "import re\n",
    "result=re.finditer(\"[\\D]\",\"ab &bd(#68434hja 4diy\")\n",
    "print(result)\n",
    "for x in result:\n",
    "    print(x)"
   ]
  },
  {
   "cell_type": "markdown",
   "id": "303f3d71",
   "metadata": {},
   "source": [
    "QUANTIFIERS:-\n",
    "===============\n",
    "        It is used to searching number occurences of the specified search patterns in the given input pattern and obtain               desired values."
   ]
  },
  {
   "cell_type": "markdown",
   "id": "1b365fce",
   "metadata": {},
   "source": [
    "1)\" + \":-\n",
    "==========\n",
    "       this is used to search for only one specified character or more specified character.\n",
    "       ====================================================================================\n",
    "                                   SYNTAX:-   \"Character + \"\n",
    "       ====================================================================================\n",
    "       ex:\n",
    "       ------"
   ]
  },
  {
   "cell_type": "code",
   "execution_count": 50,
   "id": "4d18c1a6",
   "metadata": {},
   "outputs": [
    {
     "name": "stdout",
     "output_type": "stream",
     "text": [
      "start index=0 end index=2 matched value=aa\n",
      "start index=5 end index=6 matched value=a\n",
      "start index=7 end index=8 matched value=a\n",
      "start index=9 end index=10 matched value=a\n",
      "start index=13 end index=16 matched value=aaa\n"
     ]
    }
   ],
   "source": [
    "#search one or more \"a\"s in given pattern\n",
    "import re\n",
    "result=re.finditer(\"a+\",\"aahjuawajaqq5aaa\")\n",
    "for x in result:\n",
    "    print(\"start index={} end index={} matched value={}\".format(x.start(),x.end(),x.group()))"
   ]
  },
  {
   "cell_type": "markdown",
   "id": "48b54bda",
   "metadata": {},
   "source": [
    "2)\" * \":-\n",
    "=========\n",
    "            this is used to search for zero specified character or more specified character.\n",
    "       ====================================================================================\n",
    "                               SYNTAX:-   \"Character * \"\n",
    "       ====================================================================================\n",
    "     ex:\n",
    "     ------"
   ]
  },
  {
   "cell_type": "code",
   "execution_count": 48,
   "id": "e7742cbd",
   "metadata": {},
   "outputs": [
    {
     "name": "stdout",
     "output_type": "stream",
     "text": [
      "<re.Match object; span=(0, 1), match='a'>\n",
      "<re.Match object; span=(1, 1), match=''>\n",
      "<re.Match object; span=(2, 2), match=''>\n",
      "<re.Match object; span=(3, 3), match=''>\n",
      "<re.Match object; span=(4, 5), match='a'>\n",
      "<re.Match object; span=(5, 5), match=''>\n",
      "<re.Match object; span=(6, 6), match=''>\n",
      "<re.Match object; span=(7, 10), match='aaa'>\n",
      "<re.Match object; span=(10, 10), match=''>\n"
     ]
    }
   ],
   "source": [
    "#search zero or more \"a\"s in given pattern\n",
    "import re\n",
    "result=re.finditer(\"a*\",\"ahjuaq5aaa\")\n",
    "for x in result:\n",
    "    print(x)"
   ]
  },
  {
   "cell_type": "markdown",
   "id": "40fd566a",
   "metadata": {},
   "source": [
    "3)\" ? \":-\n",
    "========\n",
    "        this is used to search for zero specified character or more specified character.\n",
    "       ====================================================================================\n",
    "                           SYNTAX:-   \"Character ? \"\n",
    "       ====================================================================================\n",
    "     ex:\n",
    "    ------"
   ]
  },
  {
   "cell_type": "code",
   "execution_count": 1,
   "id": "f3371a79",
   "metadata": {},
   "outputs": [
    {
     "name": "stdout",
     "output_type": "stream",
     "text": [
      "<re.Match object; span=(0, 1), match='a'>\n",
      "<re.Match object; span=(1, 1), match=''>\n",
      "<re.Match object; span=(2, 2), match=''>\n",
      "<re.Match object; span=(3, 3), match=''>\n",
      "<re.Match object; span=(4, 5), match='a'>\n",
      "<re.Match object; span=(5, 5), match=''>\n",
      "<re.Match object; span=(6, 6), match=''>\n",
      "<re.Match object; span=(7, 8), match='a'>\n",
      "<re.Match object; span=(8, 9), match='a'>\n",
      "<re.Match object; span=(9, 9), match=''>\n"
     ]
    }
   ],
   "source": [
    "#search zero or one \"a\"s in given pattern\n",
    "import re\n",
    "result=re.finditer(\"a?\",\"ahjuaq5aa\")\n",
    "for x in result:\n",
    "    print(x)"
   ]
  },
  {
   "cell_type": "markdown",
   "id": "4bbbd580",
   "metadata": {},
   "source": [
    "{} :-\n",
    "==========\n",
    "    this is used to check whether the sraech pattern is occurred between specified range in the flower braces({})\n",
    "    =============================================================================================================\n",
    "       SYNTAXES:- {m,n}: m to n (both inclusive)======> Search pattern occurred minimum \"M\"(times) and maximum \"N\"(times)\n",
    "                  {m}: ================>Search pattern occurred exactly m times\n",
    "                  {m,}:================>Search pattern occurred m or more (m+)"
   ]
  },
  {
   "cell_type": "code",
   "execution_count": 2,
   "id": "a96f5771",
   "metadata": {},
   "outputs": [
    {
     "name": "stdout",
     "output_type": "stream",
     "text": [
      "<re.Match object; span=(8, 11), match='873'>\n"
     ]
    }
   ],
   "source": [
    "import re\n",
    "result=re.search(\"\\d{2,3}\",\"ahjua2bk8737y28842q5aa\")\n",
    "print(result)"
   ]
  },
  {
   "cell_type": "code",
   "execution_count": 6,
   "id": "a4df5c0e",
   "metadata": {},
   "outputs": [
    {
     "name": "stdout",
     "output_type": "stream",
     "text": [
      "matched pattern= 87469\n"
     ]
    }
   ],
   "source": [
    "import re\n",
    "result=re.search(\"\\w{4,5}\",\"874692briuri9r38fuq98rq38r\")\n",
    "print(\"matched pattern=\",result.group())"
   ]
  },
  {
   "cell_type": "code",
   "execution_count": 8,
   "id": "95da144c",
   "metadata": {},
   "outputs": [
    {
     "name": "stdout",
     "output_type": "stream",
     "text": [
      "matched pattern= svsk\n"
     ]
    }
   ],
   "source": [
    "import re\n",
    "result=re.search(\"\\w{4}\",\"svskjbskjewer30wlkgoty8t\")\n",
    "print(\"matched pattern=\",result.group())"
   ]
  },
  {
   "cell_type": "code",
   "execution_count": 9,
   "id": "96aef6e5",
   "metadata": {},
   "outputs": [
    {
     "name": "stdout",
     "output_type": "stream",
     "text": [
      "matched pattern= 5468\n"
     ]
    }
   ],
   "source": [
    "import re\n",
    "result=re.search(\"\\d{2,}\",\"svskjbs5468r30wlkgoty8t\")\n",
    "print(\"matched pattern=\",result.group())"
   ]
  }
 ],
 "metadata": {
  "kernelspec": {
   "display_name": "Python 3 (ipykernel)",
   "language": "python",
   "name": "python3"
  },
  "language_info": {
   "codemirror_mode": {
    "name": "ipython",
    "version": 3
   },
   "file_extension": ".py",
   "mimetype": "text/x-python",
   "name": "python",
   "nbconvert_exporter": "python",
   "pygments_lexer": "ipython3",
   "version": "3.11.5"
  }
 },
 "nbformat": 4,
 "nbformat_minor": 5
}
